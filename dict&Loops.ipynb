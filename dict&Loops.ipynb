{
 "cells": [
  {
   "cell_type": "code",
   "execution_count": 2,
   "id": "a8d7c3c1-c17f-41d6-90a4-155eca7ef584",
   "metadata": {},
   "outputs": [
    {
     "data": {
      "text/plain": [
       "dict"
      ]
     },
     "execution_count": 2,
     "metadata": {},
     "output_type": "execute_result"
    }
   ],
   "source": [
    "f={}\n",
    "type(f)"
   ]
  },
  {
   "cell_type": "code",
   "execution_count": 4,
   "id": "13d29d63-a419-4400-8aa4-71547afc7d03",
   "metadata": {},
   "outputs": [],
   "source": [
    "d={\"KEY\":\"Shraddha\"}"
   ]
  },
  {
   "cell_type": "code",
   "execution_count": 6,
   "id": "09ae32c0-8266-49bb-b86f-d75cfca824dd",
   "metadata": {},
   "outputs": [
    {
     "data": {
      "text/plain": [
       "{'KEY': 'Shraddha'}"
      ]
     },
     "execution_count": 6,
     "metadata": {},
     "output_type": "execute_result"
    }
   ],
   "source": [
    "d"
   ]
  },
  {
   "cell_type": "code",
   "execution_count": 7,
   "id": "4a54a13e-c837-45fb-8fa4-48246b944fd3",
   "metadata": {},
   "outputs": [
    {
     "data": {
      "text/plain": [
       "{'name': 'shraddha', 'email': 'shraddha2509@', 'mobile': 67867}"
      ]
     },
     "execution_count": 7,
     "metadata": {},
     "output_type": "execute_result"
    }
   ],
   "source": [
    "d1={'name':'shraddha','email':'shraddha2509@','mobile':67867}\n",
    "d1"
   ]
  },
  {
   "cell_type": "code",
   "execution_count": 10,
   "id": "1574cb1a-12de-40af-981d-a5d77f00f2ce",
   "metadata": {},
   "outputs": [
    {
     "data": {
      "text/plain": [
       "{123: 'pswd', True: 'shraddha'}"
      ]
     },
     "execution_count": 10,
     "metadata": {},
     "output_type": "execute_result"
    }
   ],
   "source": [
    "d2={123:\"pswd\",True:\"shraddha\"}\n",
    "d2"
   ]
  },
  {
   "cell_type": "code",
   "execution_count": 11,
   "id": "e56f19da-7a1e-4655-aa88-753c68d114c5",
   "metadata": {},
   "outputs": [
    {
     "data": {
      "text/plain": [
       "'pswd'"
      ]
     },
     "execution_count": 11,
     "metadata": {},
     "output_type": "execute_result"
    }
   ],
   "source": [
    "d2[123]"
   ]
  },
  {
   "cell_type": "code",
   "execution_count": 12,
   "id": "bf5e8d70-4e27-4e45-b1ff-c2b4aa57e75e",
   "metadata": {},
   "outputs": [
    {
     "data": {
      "text/plain": [
       "'shraddha'"
      ]
     },
     "execution_count": 12,
     "metadata": {},
     "output_type": "execute_result"
    }
   ],
   "source": [
    "d2[True]"
   ]
  },
  {
   "cell_type": "code",
   "execution_count": 15,
   "id": "17167105-0a1e-4b65-a2bb-369f11b323b4",
   "metadata": {},
   "outputs": [
    {
     "data": {
      "text/plain": [
       "'shraddha'"
      ]
     },
     "execution_count": 15,
     "metadata": {},
     "output_type": "execute_result"
    }
   ],
   "source": [
    "d2[1]"
   ]
  },
  {
   "cell_type": "code",
   "execution_count": 23,
   "id": "b4156dc0-5bcc-4a05-bc99-285b11c37eee",
   "metadata": {},
   "outputs": [],
   "source": [
    "d3={\"name\":\"shraddha\",\"name\":\"rita\",\"email\":\"shsdsbqh@\",'email':'dshdfd@',\"name\":\"shraddha\",'name':'krishna','email':'golak@'}"
   ]
  },
  {
   "cell_type": "code",
   "execution_count": 24,
   "id": "011ddeaf-b04d-4c35-a5d5-bb8af6bf01d3",
   "metadata": {},
   "outputs": [
    {
     "data": {
      "text/plain": [
       "{'name': 'krishna', 'email': 'golak@'}"
      ]
     },
     "execution_count": 24,
     "metadata": {},
     "output_type": "execute_result"
    }
   ],
   "source": [
    "d3"
   ]
  },
  {
   "cell_type": "code",
   "execution_count": 25,
   "id": "340cac4a-a3f5-4244-be53-39222f52c2a0",
   "metadata": {},
   "outputs": [
    {
     "data": {
      "text/plain": [
       "{'company': 'Accenture', 'Projects': ['Takeda', 'Mcdonal', 'AMEX']}"
      ]
     },
     "execution_count": 25,
     "metadata": {},
     "output_type": "execute_result"
    }
   ],
   "source": [
    "d4={\"company\":\"Accenture\",\"Projects\":[\"Takeda\",\"Mcdonal\",\"AMEX\"]}\n",
    "d4"
   ]
  },
  {
   "cell_type": "code",
   "execution_count": 27,
   "id": "6455d706-b057-4cf6-ae03-458737884441",
   "metadata": {},
   "outputs": [
    {
     "data": {
      "text/plain": [
       "'AMEX'"
      ]
     },
     "execution_count": 27,
     "metadata": {},
     "output_type": "execute_result"
    }
   ],
   "source": [
    "d4[\"Projects\"][2]"
   ]
  },
  {
   "cell_type": "code",
   "execution_count": 31,
   "id": "326e03d4-28c7-478a-b94e-f7cecbb75f5b",
   "metadata": {},
   "outputs": [
    {
     "data": {
      "text/plain": [
       "{'number': [23, 24, 35, 44],\n",
       " 'weight': ('23.4', '45.4', '23.4'),\n",
       " 'height': {'170', '5', '99'},\n",
       " 'classtimes': {'data_sci': '9PM', 'web_dev': '8PM'}}"
      ]
     },
     "execution_count": 31,
     "metadata": {},
     "output_type": "execute_result"
    }
   ],
   "source": [
    "d5={'number':[23,24,35,44],'weight':(\"23.4\",\"45.4\",\"23.4\"),\"height\":{\"170\",\"5\",\"99\"},\"classtimes\":{\"data_sci\":\"9PM\",\"web_dev\":\"8PM\"}}\n",
    "d5"
   ]
  },
  {
   "cell_type": "code",
   "execution_count": 42,
   "id": "b966169e-1c18-4dd5-b78b-6c037f70a659",
   "metadata": {},
   "outputs": [
    {
     "data": {
      "text/plain": [
       "'8PM'"
      ]
     },
     "execution_count": 42,
     "metadata": {},
     "output_type": "execute_result"
    }
   ],
   "source": [
    "d5[\"classtimes\"][\"web_dev\"]\n"
   ]
  },
  {
   "cell_type": "code",
   "execution_count": 57,
   "id": "30127e96-95af-4e17-83a5-00bdbead48bd",
   "metadata": {},
   "outputs": [
    {
     "data": {
      "text/plain": [
       "[('weight', ('23.4', '45.4', '23.4')),\n",
       " ('height', {'170', '5', '99'}),\n",
       " ('classtimes', {'data_sci': '9PM', 'web_dev': '8PM'}),\n",
       " ('MENTOR', ['Vishnu', 'Shiva', 'Krishna'])]"
      ]
     },
     "execution_count": 57,
     "metadata": {},
     "output_type": "execute_result"
    }
   ],
   "source": [
    "d5[\"MENTOR\"]=[\"Vishnu\",\"Shiva\",\"Krishna\"]\n",
    "d5['number']= [33, 24, 35, 45]\n",
    "del d5[\"number\"]\n",
    "d5.keys()\n",
    "list(d5.values())\n",
    "list(d5.items())"
   ]
  },
  {
   "cell_type": "code",
   "execution_count": 61,
   "id": "d944f82d-8508-4895-9539-e06eed5d2058",
   "metadata": {},
   "outputs": [
    {
     "ename": "KeyError",
     "evalue": "'MENTOR'",
     "output_type": "error",
     "traceback": [
      "\u001b[0;31m---------------------------------------------------------------------------\u001b[0m",
      "\u001b[0;31mKeyError\u001b[0m                                  Traceback (most recent call last)",
      "Cell \u001b[0;32mIn[61], line 1\u001b[0m\n\u001b[0;32m----> 1\u001b[0m \u001b[43md5\u001b[49m\u001b[38;5;241;43m.\u001b[39;49m\u001b[43mpop\u001b[49m\u001b[43m(\u001b[49m\u001b[38;5;124;43m\"\u001b[39;49m\u001b[38;5;124;43mMENTOR\u001b[39;49m\u001b[38;5;124;43m\"\u001b[39;49m\u001b[43m)\u001b[49m\n",
      "\u001b[0;31mKeyError\u001b[0m: 'MENTOR'"
     ]
    }
   ],
   "source": [
    "d5.pop(\"MENTOR\")\n"
   ]
  },
  {
   "cell_type": "code",
   "execution_count": 63,
   "id": "f460250d-d6d3-4573-b86f-e8aff8b1c04d",
   "metadata": {},
   "outputs": [
    {
     "data": {
      "text/plain": [
       "{'weight': ('23.4', '45.4', '23.4'),\n",
       " 'height': {'170', '5', '99'},\n",
       " 'classtimes': {'data_sci': '9PM', 'web_dev': '8PM'}}"
      ]
     },
     "execution_count": 63,
     "metadata": {},
     "output_type": "execute_result"
    }
   ],
   "source": [
    "d5"
   ]
  },
  {
   "cell_type": "code",
   "execution_count": 73,
   "id": "eff11f48-dc76-4326-90a3-129d7dd66b33",
   "metadata": {},
   "outputs": [
    {
     "name": "stdin",
     "output_type": "stream",
     "text": [
      "enter marks: 60\n"
     ]
    },
    {
     "name": "stdout",
     "output_type": "stream",
     "text": [
      "you will be part of A3 batch\n"
     ]
    }
   ],
   "source": [
    "marks=int(input(\"enter marks:\"))\n",
    "# marks=100\n",
    "if marks>=80 :\n",
    "    print(\"You'll be part of A0 batch\")\n",
    "    \n",
    "elif marks>=80 and marks<80 :\n",
    "    print(\"you will be part of A1 batch\")\n",
    "elif marks>=40 and marks <60:\n",
    "    print(\"you will be part of A2 batch\")\n",
    "else:\n",
    "    print(\"you will be part of A3 batch\")\n",
    "        "
   ]
  },
  {
   "cell_type": "code",
   "execution_count": 74,
   "id": "e14babc0-8fa5-499e-98f2-d11528e2d8d6",
   "metadata": {},
   "outputs": [
    {
     "data": {
      "text/plain": [
       "True"
      ]
     },
     "execution_count": 74,
     "metadata": {},
     "output_type": "execute_result"
    }
   ],
   "source": [
    "100>=80"
   ]
  },
  {
   "cell_type": "code",
   "execution_count": 87,
   "id": "26737025-018f-42cc-8a2d-1fcd362c7add",
   "metadata": {},
   "outputs": [
    {
     "name": "stdin",
     "output_type": "stream",
     "text": [
      "enter price 80\n"
     ]
    },
    {
     "name": "stdout",
     "output_type": "stream",
     "text": [
      "I will buy\n"
     ]
    }
   ],
   "source": [
    "price=int(input(\"enter price\"))\n",
    "if price>1000:\n",
    "    print(\"I wont be purchacing anything.\")\n",
    "    if price == 5000:\n",
    "        print(\"too much  price\")\n",
    "else:\n",
    "    print(\"I will buy\")\n",
    "    "
   ]
  },
  {
   "cell_type": "code",
   "execution_count": 92,
   "id": "44841d4a-2a80-4817-b101-be9d7e990ba7",
   "metadata": {},
   "outputs": [
    {
     "data": {
      "text/plain": [
       "[1, 2, 3, 4, 5, 6, 7, 8]"
      ]
     },
     "execution_count": 92,
     "metadata": {},
     "output_type": "execute_result"
    }
   ],
   "source": [
    "l=[1,2,3,4,5,6,7,8]\n",
    "l"
   ]
  },
  {
   "cell_type": "code",
   "execution_count": 102,
   "id": "912bb2ff-ccf7-469b-800a-d24d4feabcce",
   "metadata": {},
   "outputs": [
    {
     "name": "stdout",
     "output_type": "stream",
     "text": [
      "2\n",
      "3\n",
      "4\n",
      "5\n",
      "6\n",
      "7\n",
      "8\n",
      "9\n"
     ]
    },
    {
     "ename": "IndexError",
     "evalue": "list index out of range",
     "output_type": "error",
     "traceback": [
      "\u001b[0;31m---------------------------------------------------------------------------\u001b[0m",
      "\u001b[0;31mIndexError\u001b[0m                                Traceback (most recent call last)",
      "Cell \u001b[0;32mIn[102], line 3\u001b[0m\n\u001b[1;32m      1\u001b[0m i\u001b[38;5;241m=\u001b[39m\u001b[38;5;241m0\u001b[39m\n\u001b[1;32m      2\u001b[0m \u001b[38;5;28;01mwhile\u001b[39;00m i\u001b[38;5;241m<\u001b[39m\u001b[38;5;241m=\u001b[39m\u001b[38;5;28mlen\u001b[39m(l):\n\u001b[0;32m----> 3\u001b[0m     \u001b[38;5;28mprint\u001b[39m(\u001b[43ml\u001b[49m\u001b[43m[\u001b[49m\u001b[43mi\u001b[49m\u001b[43m]\u001b[49m\u001b[38;5;241m+\u001b[39m\u001b[38;5;241m1\u001b[39m)\n\u001b[1;32m      4\u001b[0m     i\u001b[38;5;241m=\u001b[39mi\u001b[38;5;241m+\u001b[39m\u001b[38;5;241m1\u001b[39m\n",
      "\u001b[0;31mIndexError\u001b[0m: list index out of range"
     ]
    }
   ],
   "source": [
    "i=0\n",
    "while i<=len(l):\n",
    "    print(l[i]+1)\n",
    "    i=i+1"
   ]
  },
  {
   "cell_type": "code",
   "execution_count": 120,
   "id": "15f3ad1a-7623-408e-8777-de191da6129c",
   "metadata": {},
   "outputs": [
    {
     "data": {
      "text/plain": [
       "[1, 2, 3, 4, 5, 6, 7, 8]"
      ]
     },
     "execution_count": 120,
     "metadata": {},
     "output_type": "execute_result"
    }
   ],
   "source": [
    "# for i in range(len(l)):\n",
    "#     print(l[i]+1)\n",
    "l"
   ]
  },
  {
   "cell_type": "code",
   "execution_count": 126,
   "id": "b7bf3f9f-ba20-4e01-961f-082c3260cbc3",
   "metadata": {},
   "outputs": [
    {
     "name": "stdout",
     "output_type": "stream",
     "text": [
      "1\n",
      "2\n",
      "3\n",
      "4\n",
      "5\n",
      "6\n",
      "7\n",
      "8\n"
     ]
    },
    {
     "data": {
      "text/plain": [
       "[2, 3, 4, 5, 6, 7, 8, 9]"
      ]
     },
     "execution_count": 126,
     "metadata": {},
     "output_type": "execute_result"
    }
   ],
   "source": [
    "l1=[]\n",
    "for i in l:\n",
    "    print(i)\n",
    "    l1.append(i+1)\n",
    "l1   "
   ]
  },
  {
   "cell_type": "code",
   "execution_count": 133,
   "id": "ad28799f-a6a1-4a65-8783-472f08dde35f",
   "metadata": {},
   "outputs": [
    {
     "data": {
      "text/plain": [
       "['name', 'company', 'course']"
      ]
     },
     "execution_count": 133,
     "metadata": {},
     "output_type": "execute_result"
    }
   ],
   "source": [
    " l2=[\"name\",\"company\",\"course\"]\n",
    "l2\n"
   ]
  },
  {
   "cell_type": "code",
   "execution_count": 144,
   "id": "53b102dd-23da-4a00-9579-fded7155cf2f",
   "metadata": {},
   "outputs": [
    {
     "data": {
      "text/plain": [
       "['NAME', 'COMPANY', 'COURSE']"
      ]
     },
     "execution_count": 144,
     "metadata": {},
     "output_type": "execute_result"
    }
   ],
   "source": [
    "l3=[]\n",
    "for i in l2:\n",
    "    l3.append(i.upper())\n",
    "l3    "
   ]
  },
  {
   "cell_type": "code",
   "execution_count": 2,
   "id": "fdd4d1fe-74aa-46cc-9602-f6709d81f55b",
   "metadata": {},
   "outputs": [
    {
     "data": {
      "text/plain": [
       "list"
      ]
     },
     "execution_count": 2,
     "metadata": {},
     "output_type": "execute_result"
    }
   ],
   "source": [
    "l4=[1,2,3,22.33,\"shraddha\",7.8,\"singh\",\"Ram\"]\n",
    "type(l4)"
   ]
  },
  {
   "cell_type": "code",
   "execution_count": 3,
   "id": "9907b762-e62a-4ce7-8031-00b5be0d56ca",
   "metadata": {},
   "outputs": [
    {
     "data": {
      "text/plain": [
       "list"
      ]
     },
     "execution_count": 3,
     "metadata": {},
     "output_type": "execute_result"
    }
   ],
   "source": [
    "l4\n",
    "type(l4)"
   ]
  },
  {
   "cell_type": "code",
   "execution_count": 17,
   "id": "520a9fa9-43de-4991-95f1-1e434d5efeb8",
   "metadata": {},
   "outputs": [
    {
     "data": {
      "text/plain": [
       "['SHRADDHA', 'SINGH', 'RAM']"
      ]
     },
     "execution_count": 17,
     "metadata": {},
     "output_type": "execute_result"
    }
   ],
   "source": [
    "STRING=[]\n",
    "NUM=[]\n",
    "for i in l4:\n",
    "    if type(i)==int or type(i)==float:\n",
    "        NUM.append(i)\n",
    "        \n",
    "    else:\n",
    "        STRING.append(i.upper())\n",
    "STRING "
   ]
  },
  {
   "cell_type": "code",
   "execution_count": 16,
   "id": "6f479a08-c33f-44c4-ad62-ca671ff6c370",
   "metadata": {},
   "outputs": [
    {
     "data": {
      "text/plain": [
       "[1, 2, 3, 22.33, 7.8]"
      ]
     },
     "execution_count": 16,
     "metadata": {},
     "output_type": "execute_result"
    }
   ],
   "source": [
    "NUM"
   ]
  }
 ],
 "metadata": {
  "kernelspec": {
   "display_name": "Python 3 (ipykernel)",
   "language": "python",
   "name": "python3"
  },
  "language_info": {
   "codemirror_mode": {
    "name": "ipython",
    "version": 3
   },
   "file_extension": ".py",
   "mimetype": "text/x-python",
   "name": "python",
   "nbconvert_exporter": "python",
   "pygments_lexer": "ipython3",
   "version": "3.10.8"
  }
 },
 "nbformat": 4,
 "nbformat_minor": 5
}
